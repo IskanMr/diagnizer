{
 "cells": [
  {
   "cell_type": "code",
   "execution_count": 1,
   "metadata": {},
   "outputs": [],
   "source": [
    "from clips import Environment\n",
    "import os"
   ]
  },
  {
   "cell_type": "code",
   "execution_count": 9,
   "metadata": {},
   "outputs": [],
   "source": [
    "dataPath = os.path.abspath(os.path.join(os.getcwd(), '..', 'data'))\n",
    "diseasePath = os.path.join(dataPath, 'symptomsRule.clp')\n",
    "env = Environment()\n",
    "env.load(diseasePath)"
   ]
  },
  {
   "cell_type": "code",
   "execution_count": 10,
   "metadata": {},
   "outputs": [],
   "source": [
    "env.reset()\n",
    "env.eval(\"(assert  (has_symptom chills))\")\n",
    "env.eval(\"(assert (has_symptom vomiting))\")\n",
    "env.eval(\"(assert (has_symptom fatigue))\")\n",
    "env.eval(\"(assert (has_symptom high_fever))\")\n",
    "_ = env.run()\n"
   ]
  },
  {
   "cell_type": "code",
   "execution_count": 11,
   "metadata": {},
   "outputs": [
    {
     "name": "stdout",
     "output_type": "stream",
     "text": [
      "[]\n"
     ]
    }
   ],
   "source": [
    "diseases = []\n",
    "\n",
    "for fact in env.facts():\n",
    "  fact = str(fact)\n",
    "  if \"disease_is\" in fact:\n",
    "    disease = fact[1:-1].split(\" \")[1]\n",
    "    disease = disease.replace(\"_\", \" \")\n",
    "    disease = disease.title()\n",
    "    diseases.append(disease)\n",
    "\n",
    "print(diseases)\n",
    "  "
   ]
  }
 ],
 "metadata": {
  "interpreter": {
   "hash": "63fd5069d213b44bf678585dea6b12cceca9941eaf7f819626cde1f2670de90d"
  },
  "kernelspec": {
   "display_name": "Python 3.9.1 64-bit",
   "language": "python",
   "name": "python3"
  },
  "language_info": {
   "codemirror_mode": {
    "name": "ipython",
    "version": 3
   },
   "file_extension": ".py",
   "mimetype": "text/x-python",
   "name": "python",
   "nbconvert_exporter": "python",
   "pygments_lexer": "ipython3",
   "version": "3.9.1"
  },
  "orig_nbformat": 4
 },
 "nbformat": 4,
 "nbformat_minor": 2
}
